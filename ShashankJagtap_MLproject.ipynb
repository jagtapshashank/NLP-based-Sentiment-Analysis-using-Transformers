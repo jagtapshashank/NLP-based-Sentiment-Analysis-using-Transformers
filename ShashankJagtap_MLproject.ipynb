{
 "cells": [
  {
   "cell_type": "markdown",
   "id": "b7fa09bd",
   "metadata": {},
   "source": [
    "# CSCE 633 :: Machine Learning :: Texas A&M University :: Fall 2023\n",
    "\n",
    "# Project\n",
    "\n",
    "**Name: Shashank Santosh Jagtap**           \n",
    "**UIN:534002338**  "
   ]
  },
  {
   "cell_type": "markdown",
   "id": "86a64f2f",
   "metadata": {},
   "source": [
    "## Problem Statement:\n",
    "\n",
    "- We are given a Yelp review dataset, which comprises around 174000 reviews with stars. We will be using only a subset of this dataset for experiments. Our goal is to implement the powerful Transformer model for sentiment analysis based on the text review and stars.\n"
   ]
  },
  {
   "cell_type": "markdown",
   "id": "2837b811",
   "metadata": {},
   "source": [
    "#### Imported all necessary libraries"
   ]
  },
  {
   "cell_type": "code",
   "execution_count": 51,
   "id": "3dbb98ad-fd38-4a20-ab0b-7461b0f42dd3",
   "metadata": {},
   "outputs": [],
   "source": [
    "import pandas as pd\n",
    "from collections import defaultdict\n",
    "import numpy as np\n",
    "import seaborn as sns\n",
    "\n",
    "import nltk\n",
    "from nltk.corpus import stopwords\n",
    "from nltk.tokenize import word_tokenize\n",
    "import string\n",
    "\n",
    "import torch\n",
    "from torchtext.vocab import build_vocab_from_iterator\n",
    "import torch.nn as nn\n",
    "from torch.utils.data import DataLoader, Dataset, TensorDataset\n",
    "from torch.optim import SGD\n",
    "\n",
    "from transformers import BertModel, BertTokenizer, get_linear_schedule_with_warmup, BertConfig\n",
    "\n",
    "from sklearn.model_selection import train_test_split\n",
    "from sklearn.metrics import classification_report,confusion_matrix\n",
    "\n",
    "\n",
    "import matplotlib.pyplot as plt"
   ]
  },
  {
   "cell_type": "markdown",
   "id": "d1f68e44",
   "metadata": {},
   "source": [
    "# (a) Data Pre-processing"
   ]
  },
  {
   "cell_type": "markdown",
   "id": "74b1ae44",
   "metadata": {},
   "source": [
    "#### Imported training and testing datasets."
   ]
  },
  {
   "cell_type": "code",
   "execution_count": 2,
   "id": "02490415-827d-43a9-92d3-08d3a7bc1bd0",
   "metadata": {},
   "outputs": [],
   "source": [
    "train_df = pd.read_csv('yelp_review_train.csv')\n",
    "\n",
    "test_df = pd.read_csv('yelp_review_test.csv')"
   ]
  },
  {
   "cell_type": "code",
   "execution_count": 3,
   "id": "d61f53e6-bad1-42a2-89e7-4c39423632c4",
   "metadata": {},
   "outputs": [
    {
     "data": {
      "text/html": [
       "<div>\n",
       "<style scoped>\n",
       "    .dataframe tbody tr th:only-of-type {\n",
       "        vertical-align: middle;\n",
       "    }\n",
       "\n",
       "    .dataframe tbody tr th {\n",
       "        vertical-align: top;\n",
       "    }\n",
       "\n",
       "    .dataframe thead th {\n",
       "        text-align: right;\n",
       "    }\n",
       "</style>\n",
       "<table border=\"1\" class=\"dataframe\">\n",
       "  <thead>\n",
       "    <tr style=\"text-align: right;\">\n",
       "      <th></th>\n",
       "      <th>text</th>\n",
       "      <th>stars</th>\n",
       "    </tr>\n",
       "  </thead>\n",
       "  <tbody>\n",
       "    <tr>\n",
       "      <th>0</th>\n",
       "      <td>Went for lunch and found that my burger was me...</td>\n",
       "      <td>2.0</td>\n",
       "    </tr>\n",
       "    <tr>\n",
       "      <th>1</th>\n",
       "      <td>I needed a new tires for my wife's car. They h...</td>\n",
       "      <td>5.0</td>\n",
       "    </tr>\n",
       "    <tr>\n",
       "      <th>2</th>\n",
       "      <td>Jim Woltman who works at Goleta Honda is 5 sta...</td>\n",
       "      <td>5.0</td>\n",
       "    </tr>\n",
       "    <tr>\n",
       "      <th>3</th>\n",
       "      <td>Been here a few times to get some shrimp.  The...</td>\n",
       "      <td>4.0</td>\n",
       "    </tr>\n",
       "    <tr>\n",
       "      <th>4</th>\n",
       "      <td>This is one fantastic place to eat whether you...</td>\n",
       "      <td>5.0</td>\n",
       "    </tr>\n",
       "  </tbody>\n",
       "</table>\n",
       "</div>"
      ],
      "text/plain": [
       "                                                text  stars\n",
       "0  Went for lunch and found that my burger was me...    2.0\n",
       "1  I needed a new tires for my wife's car. They h...    5.0\n",
       "2  Jim Woltman who works at Goleta Honda is 5 sta...    5.0\n",
       "3  Been here a few times to get some shrimp.  The...    4.0\n",
       "4  This is one fantastic place to eat whether you...    5.0"
      ]
     },
     "execution_count": 3,
     "metadata": {},
     "output_type": "execute_result"
    }
   ],
   "source": [
    "train_df.head()"
   ]
  },
  {
   "cell_type": "markdown",
   "id": "f0b94427",
   "metadata": {},
   "source": [
    "#### Performed 3 pre-processing steps \n",
    "1. Conversion to lowercase\n",
    "2. Removing punctuations\n",
    "3. Removing stopwords\n",
    "\n",
    "These steps help the model to learn faster without learning unnecessary words"
   ]
  },
  {
   "cell_type": "code",
   "execution_count": 4,
   "id": "7091fb1e-8c50-451b-97b6-f157899bc821",
   "metadata": {},
   "outputs": [],
   "source": [
    "# Function to preprocess text\n",
    "def preprocess_text(text):\n",
    "    # Convert to lowercase\n",
    "    text = text.lower()\n",
    "\n",
    "    # Remove punctuation\n",
    "    text = text.translate(str.maketrans(\"\", \"\", string.punctuation))\n",
    "\n",
    "    # Remove stopwords\n",
    "    stop_words = set(stopwords.words('english'))\n",
    "    words = word_tokenize(text)\n",
    "    words = [word for word in words if word.isalnum() and word not in stop_words]\n",
    "\n",
    "    # Join the words back into a single string\n",
    "    text = ' '.join(words)\n",
    "\n",
    "    return text\n",
    "\n",
    "# Apply text pre-processing to the 'text' column\n",
    "train_df['text'] = train_df['text'].apply(preprocess_text)\n"
   ]
  },
  {
   "cell_type": "code",
   "execution_count": 5,
   "id": "d09ee8bf-3c64-49de-aaf7-aaef54673ecc",
   "metadata": {},
   "outputs": [
    {
     "data": {
      "text/html": [
       "<div>\n",
       "<style scoped>\n",
       "    .dataframe tbody tr th:only-of-type {\n",
       "        vertical-align: middle;\n",
       "    }\n",
       "\n",
       "    .dataframe tbody tr th {\n",
       "        vertical-align: top;\n",
       "    }\n",
       "\n",
       "    .dataframe thead th {\n",
       "        text-align: right;\n",
       "    }\n",
       "</style>\n",
       "<table border=\"1\" class=\"dataframe\">\n",
       "  <thead>\n",
       "    <tr style=\"text-align: right;\">\n",
       "      <th></th>\n",
       "      <th>text</th>\n",
       "      <th>stars</th>\n",
       "    </tr>\n",
       "  </thead>\n",
       "  <tbody>\n",
       "    <tr>\n",
       "      <th>0</th>\n",
       "      <td>went lunch found burger meh obvious focus burg...</td>\n",
       "      <td>2.0</td>\n",
       "    </tr>\n",
       "    <tr>\n",
       "      <th>1</th>\n",
       "      <td>needed new tires wifes car special order next ...</td>\n",
       "      <td>5.0</td>\n",
       "    </tr>\n",
       "    <tr>\n",
       "      <th>2</th>\n",
       "      <td>jim woltman works goleta honda 5 stars knowled...</td>\n",
       "      <td>5.0</td>\n",
       "    </tr>\n",
       "    <tr>\n",
       "      <th>3</th>\n",
       "      <td>times get shrimp theyve got nice selection dif...</td>\n",
       "      <td>4.0</td>\n",
       "    </tr>\n",
       "    <tr>\n",
       "      <th>4</th>\n",
       "      <td>one fantastic place eat whether hungry need go...</td>\n",
       "      <td>5.0</td>\n",
       "    </tr>\n",
       "  </tbody>\n",
       "</table>\n",
       "</div>"
      ],
      "text/plain": [
       "                                                text  stars\n",
       "0  went lunch found burger meh obvious focus burg...    2.0\n",
       "1  needed new tires wifes car special order next ...    5.0\n",
       "2  jim woltman works goleta honda 5 stars knowled...    5.0\n",
       "3  times get shrimp theyve got nice selection dif...    4.0\n",
       "4  one fantastic place eat whether hungry need go...    5.0"
      ]
     },
     "execution_count": 5,
     "metadata": {},
     "output_type": "execute_result"
    }
   ],
   "source": [
    "train_df.head()"
   ]
  },
  {
   "cell_type": "markdown",
   "id": "b5e4706f",
   "metadata": {},
   "source": [
    "#### Conversion of stars to 3 levels and building a new column named 'sentiment'"
   ]
  },
  {
   "cell_type": "code",
   "execution_count": 6,
   "id": "39b7eae9-8608-4104-9909-e04537fcb75b",
   "metadata": {},
   "outputs": [
    {
     "data": {
      "text/html": [
       "<div>\n",
       "<style scoped>\n",
       "    .dataframe tbody tr th:only-of-type {\n",
       "        vertical-align: middle;\n",
       "    }\n",
       "\n",
       "    .dataframe tbody tr th {\n",
       "        vertical-align: top;\n",
       "    }\n",
       "\n",
       "    .dataframe thead th {\n",
       "        text-align: right;\n",
       "    }\n",
       "</style>\n",
       "<table border=\"1\" class=\"dataframe\">\n",
       "  <thead>\n",
       "    <tr style=\"text-align: right;\">\n",
       "      <th></th>\n",
       "      <th>text</th>\n",
       "      <th>stars</th>\n",
       "      <th>sentiment</th>\n",
       "    </tr>\n",
       "  </thead>\n",
       "  <tbody>\n",
       "    <tr>\n",
       "      <th>0</th>\n",
       "      <td>went lunch found burger meh obvious focus burg...</td>\n",
       "      <td>2.0</td>\n",
       "      <td>Negative</td>\n",
       "    </tr>\n",
       "    <tr>\n",
       "      <th>1</th>\n",
       "      <td>needed new tires wifes car special order next ...</td>\n",
       "      <td>5.0</td>\n",
       "      <td>Positive</td>\n",
       "    </tr>\n",
       "    <tr>\n",
       "      <th>2</th>\n",
       "      <td>jim woltman works goleta honda 5 stars knowled...</td>\n",
       "      <td>5.0</td>\n",
       "      <td>Positive</td>\n",
       "    </tr>\n",
       "    <tr>\n",
       "      <th>3</th>\n",
       "      <td>times get shrimp theyve got nice selection dif...</td>\n",
       "      <td>4.0</td>\n",
       "      <td>Positive</td>\n",
       "    </tr>\n",
       "    <tr>\n",
       "      <th>4</th>\n",
       "      <td>one fantastic place eat whether hungry need go...</td>\n",
       "      <td>5.0</td>\n",
       "      <td>Positive</td>\n",
       "    </tr>\n",
       "  </tbody>\n",
       "</table>\n",
       "</div>"
      ],
      "text/plain": [
       "                                                text  stars sentiment\n",
       "0  went lunch found burger meh obvious focus burg...    2.0  Negative\n",
       "1  needed new tires wifes car special order next ...    5.0  Positive\n",
       "2  jim woltman works goleta honda 5 stars knowled...    5.0  Positive\n",
       "3  times get shrimp theyve got nice selection dif...    4.0  Positive\n",
       "4  one fantastic place eat whether hungry need go...    5.0  Positive"
      ]
     },
     "execution_count": 6,
     "metadata": {},
     "output_type": "execute_result"
    }
   ],
   "source": [
    "# Convert stars into three levels\n",
    "train_df['sentiment'] = train_df['stars'].apply(lambda x: 'Positive' if x > 3 else ('Negative' if x <= 2 else 'Neutral'))\n",
    "train_df.head()"
   ]
  },
  {
   "cell_type": "markdown",
   "id": "62533ad1",
   "metadata": {},
   "source": [
    "# (b) Input Data Preparation"
   ]
  },
  {
   "cell_type": "markdown",
   "id": "08cb4ebf",
   "metadata": {},
   "source": [
    "#### Any transformer model needs the input in a specific format. In this section we will achieve this by performing 3 steps on the data.\n",
    "\n",
    "1. Build Vocabulary: This creates a vocabulary of the words used throughout the training data. It is similar to the vocabulary seen in a language dictionary.\n",
    "2. Fixed length sequence: Convert words to integers using vocabulary.\n",
    "3. Padding of these sequences: Padding is done so that almost all the words are represented in same length. Generally, padding is performed to such a extent for any words so that it matches the length of the maximum word in vocabulary. But in this case we took max_len = 100, because the original maximum length was almost 520 which would have drastically increase the complexity of calculations while training the transformer. Additionally, it would have increased the training time to a greater extent.  "
   ]
  },
  {
   "cell_type": "code",
   "execution_count": 7,
   "id": "c62d80bd-c41d-4f24-9ed9-da3e200c1eed",
   "metadata": {},
   "outputs": [],
   "source": [
    "# Assuming train_df['text'] is a list of strings\n",
    "tokenized_texts = [word_tokenize(text) for text in train_df['text']]\n",
    "\n",
    "# Create an iterator over tokenized texts\n",
    "def token_iterator():\n",
    "    for tokens in tokenized_texts:\n",
    "        yield tokens\n",
    "\n",
    "# Build Vocabulary\n",
    "vocab = build_vocab_from_iterator(token_iterator())\n",
    "\n",
    "# Convert words to integers using the vocabulary\n",
    "text_to_int = lambda x: [vocab[token] for token in x]\n",
    "int_texts = [text_to_int(tokens) for tokens in tokenized_texts]\n",
    "\n",
    "# Pad Sequences to Fixed Length\n",
    "max_len = 100  # Choose your desired fixed length\n",
    "padded_texts = [torch.nn.functional.pad(torch.tensor(seq), pad=(0, max_len - len(seq)), mode='constant', value=0) for seq in int_texts]\n",
    "\n",
    "# Convert to PyTorch tensor\n",
    "padded_texts = torch.stack(padded_texts)\n",
    "\n",
    "# Now, padded_texts can be used as input to the Transformer model\n"
   ]
  },
  {
   "cell_type": "markdown",
   "id": "63bfbe7b",
   "metadata": {},
   "source": [
    "#### Example of how the padded text looks like."
   ]
  },
  {
   "cell_type": "code",
   "execution_count": 8,
   "id": "5515f5ae-a8fc-4886-9608-b31c0b2e8b3d",
   "metadata": {},
   "outputs": [
    {
     "name": "stdout",
     "output_type": "stream",
     "text": [
      "tensor([3.6000e+01, 1.0300e+02, 1.5100e+02, 1.6600e+02, 1.7230e+03, 2.1120e+03,\n",
      "        2.5390e+03, 5.4600e+02, 4.0400e+02, 1.3500e+02, 2.0950e+03, 1.9020e+03,\n",
      "        3.3730e+03, 1.5900e+02, 1.9100e+02, 1.6600e+02, 2.3450e+03, 3.1900e+02,\n",
      "        2.0670e+03, 1.8700e+03, 1.4568e+04, 2.3450e+03, 8.5710e+03, 1.2730e+03,\n",
      "        4.6000e+01, 8.0000e+00, 1.6760e+03, 3.0100e+02, 6.4180e+03, 4.9000e+01,\n",
      "        1.6600e+02, 5.6470e+03, 2.6600e+02, 0.0000e+00, 0.0000e+00, 0.0000e+00,\n",
      "        0.0000e+00, 0.0000e+00, 0.0000e+00, 0.0000e+00, 0.0000e+00, 0.0000e+00,\n",
      "        0.0000e+00, 0.0000e+00, 0.0000e+00, 0.0000e+00, 0.0000e+00, 0.0000e+00,\n",
      "        0.0000e+00, 0.0000e+00, 0.0000e+00, 0.0000e+00, 0.0000e+00, 0.0000e+00,\n",
      "        0.0000e+00, 0.0000e+00, 0.0000e+00, 0.0000e+00, 0.0000e+00, 0.0000e+00,\n",
      "        0.0000e+00, 0.0000e+00, 0.0000e+00, 0.0000e+00, 0.0000e+00, 0.0000e+00,\n",
      "        0.0000e+00, 0.0000e+00, 0.0000e+00, 0.0000e+00, 0.0000e+00, 0.0000e+00,\n",
      "        0.0000e+00, 0.0000e+00, 0.0000e+00, 0.0000e+00, 0.0000e+00, 0.0000e+00,\n",
      "        0.0000e+00, 0.0000e+00, 0.0000e+00, 0.0000e+00, 0.0000e+00, 0.0000e+00,\n",
      "        0.0000e+00, 0.0000e+00, 0.0000e+00, 0.0000e+00, 0.0000e+00, 0.0000e+00,\n",
      "        0.0000e+00, 0.0000e+00, 0.0000e+00, 0.0000e+00, 0.0000e+00, 0.0000e+00,\n",
      "        0.0000e+00, 0.0000e+00, 0.0000e+00, 0.0000e+00])\n"
     ]
    }
   ],
   "source": [
    "print (padded_texts[0])"
   ]
  },
  {
   "cell_type": "markdown",
   "id": "d55a848e",
   "metadata": {},
   "source": [
    "#### Created a new column 'sentiment_encoded' as the target variable which is based on 'sentiment' column."
   ]
  },
  {
   "cell_type": "code",
   "execution_count": 9,
   "id": "705b253d-8519-4c65-bd7f-ddbdab8815a0",
   "metadata": {},
   "outputs": [],
   "source": [
    "# Mapping dictionary\n",
    "sentiment_mapping = {'Positive': 2, 'Negative': 0, 'Neutral': 1}\n",
    "\n",
    "# Apply the mapping to create a new 'sentiment_encoded' column\n",
    "train_df['sentiment_encoded'] = train_df['sentiment'].map(sentiment_mapping)\n"
   ]
  },
  {
   "cell_type": "code",
   "execution_count": 10,
   "id": "5113a85a-1bec-4769-a5f2-34add71d0536",
   "metadata": {},
   "outputs": [
    {
     "data": {
      "text/html": [
       "<div>\n",
       "<style scoped>\n",
       "    .dataframe tbody tr th:only-of-type {\n",
       "        vertical-align: middle;\n",
       "    }\n",
       "\n",
       "    .dataframe tbody tr th {\n",
       "        vertical-align: top;\n",
       "    }\n",
       "\n",
       "    .dataframe thead th {\n",
       "        text-align: right;\n",
       "    }\n",
       "</style>\n",
       "<table border=\"1\" class=\"dataframe\">\n",
       "  <thead>\n",
       "    <tr style=\"text-align: right;\">\n",
       "      <th></th>\n",
       "      <th>text</th>\n",
       "      <th>stars</th>\n",
       "      <th>sentiment</th>\n",
       "      <th>sentiment_encoded</th>\n",
       "    </tr>\n",
       "  </thead>\n",
       "  <tbody>\n",
       "    <tr>\n",
       "      <th>0</th>\n",
       "      <td>went lunch found burger meh obvious focus burg...</td>\n",
       "      <td>2.0</td>\n",
       "      <td>Negative</td>\n",
       "      <td>0</td>\n",
       "    </tr>\n",
       "    <tr>\n",
       "      <th>1</th>\n",
       "      <td>needed new tires wifes car special order next ...</td>\n",
       "      <td>5.0</td>\n",
       "      <td>Positive</td>\n",
       "      <td>2</td>\n",
       "    </tr>\n",
       "    <tr>\n",
       "      <th>2</th>\n",
       "      <td>jim woltman works goleta honda 5 stars knowled...</td>\n",
       "      <td>5.0</td>\n",
       "      <td>Positive</td>\n",
       "      <td>2</td>\n",
       "    </tr>\n",
       "    <tr>\n",
       "      <th>3</th>\n",
       "      <td>times get shrimp theyve got nice selection dif...</td>\n",
       "      <td>4.0</td>\n",
       "      <td>Positive</td>\n",
       "      <td>2</td>\n",
       "    </tr>\n",
       "    <tr>\n",
       "      <th>4</th>\n",
       "      <td>one fantastic place eat whether hungry need go...</td>\n",
       "      <td>5.0</td>\n",
       "      <td>Positive</td>\n",
       "      <td>2</td>\n",
       "    </tr>\n",
       "  </tbody>\n",
       "</table>\n",
       "</div>"
      ],
      "text/plain": [
       "                                                text  stars sentiment  \\\n",
       "0  went lunch found burger meh obvious focus burg...    2.0  Negative   \n",
       "1  needed new tires wifes car special order next ...    5.0  Positive   \n",
       "2  jim woltman works goleta honda 5 stars knowled...    5.0  Positive   \n",
       "3  times get shrimp theyve got nice selection dif...    4.0  Positive   \n",
       "4  one fantastic place eat whether hungry need go...    5.0  Positive   \n",
       "\n",
       "   sentiment_encoded  \n",
       "0                  0  \n",
       "1                  2  \n",
       "2                  2  \n",
       "3                  2  \n",
       "4                  2  "
      ]
     },
     "execution_count": 10,
     "metadata": {},
     "output_type": "execute_result"
    }
   ],
   "source": [
    "train_df.head()"
   ]
  },
  {
   "cell_type": "markdown",
   "id": "b42f8e9e",
   "metadata": {},
   "source": [
    "# (c) Transformer Implementation"
   ]
  },
  {
   "cell_type": "markdown",
   "id": "6d249f04",
   "metadata": {},
   "source": [
    "##### Setting the PyTorch device to the GPU (\"cuda:0\") if a GPU is available; otherwise, it sets it to the CPU (\"cpu\"). I have implemented this project on TAMU's HPRC Grace server. "
   ]
  },
  {
   "cell_type": "code",
   "execution_count": 11,
   "id": "19246bd9-7e05-4458-a415-4eb952956182",
   "metadata": {},
   "outputs": [
    {
     "data": {
      "text/plain": [
       "device(type='cuda', index=0)"
      ]
     },
     "execution_count": 11,
     "metadata": {},
     "output_type": "execute_result"
    }
   ],
   "source": [
    "device = torch.device(\"cuda:0\" if torch.cuda.is_available() else \"cpu\")\n",
    "device"
   ]
  },
  {
   "cell_type": "markdown",
   "id": "13f77564",
   "metadata": {},
   "source": [
    "### In this project I will be using BERT pretrained model along with some modifications to its architecture to achieve greater results.\n",
    "- BERT, or Bidirectional Encoder Representations from Transformers, uses a transformer architecture with a specific configuration. The original BERT model, known as BERTBASE, has the following specifications:\n",
    "\n",
    "1. Number of Layers: BERTBASE has 12 layers in its transformer architecture.\n",
    "2. Number of Attention Heads: Each layer has 12 attention heads.\n",
    "3. Hidden Size: The hidden size of the model (dimension of the internal representation) is 768.\n",
    "4. Total Parameters: BERTBASE has a total of 110 million parameters.\n"
   ]
  },
  {
   "cell_type": "markdown",
   "id": "6fe05d8d",
   "metadata": {},
   "source": [
    "#### Initialized tokenizer specific to BERT model. "
   ]
  },
  {
   "cell_type": "code",
   "execution_count": 12,
   "id": "5c6d9339-a529-4dd4-80ae-deaa2000e648",
   "metadata": {},
   "outputs": [],
   "source": [
    "PRE_TRAINED_MODEL_NAME = 'bert-base-cased'\n",
    "tokenizer = BertTokenizer.from_pretrained(PRE_TRAINED_MODEL_NAME)"
   ]
  },
  {
   "cell_type": "markdown",
   "id": "d26774ff",
   "metadata": {},
   "source": [
    "PyTorch dataset class named ReviewDataset for handling text reviews and their corresponding targets in a natural language processing task. The dataset utilizes a tokenizer to encode reviews, ensuring they are formatted with special tokens and fit within a specified maximum length (max_len), and it returns the input IDs, attention mask, and target values for each item. The dataset is designed to be used in PyTorch data loaders, providing a convenient interface for training or evaluating models on tasks such as sentiment analysis."
   ]
  },
  {
   "cell_type": "code",
   "execution_count": 13,
   "id": "073fd587-7c8a-4a20-9fb1-cd434a813ae7",
   "metadata": {},
   "outputs": [],
   "source": [
    "class ReviewDataset(Dataset):\n",
    "    def __init__(self,reviews,targets,tokenizer,max_len):\n",
    "        self.reviews = reviews\n",
    "        self.targets = targets\n",
    "        self.tokenizer = tokenizer\n",
    "        self.max_len = max_len\n",
    "\n",
    "    def __len__(self):\n",
    "        return len(self.reviews)\n",
    "\n",
    "    def __getitem__(self,item):\n",
    "        review = str(self.reviews[item])\n",
    "        target = self.targets[item]\n",
    "\n",
    "        encoding = self.tokenizer.encode_plus(\n",
    "            review,\n",
    "            add_special_tokens=True,\n",
    "            max_length=self.max_len,\n",
    "            return_token_type_ids=False,\n",
    "            pad_to_max_length=True,\n",
    "            return_attention_mask=True,\n",
    "            return_tensors='pt',\n",
    "            )\n",
    "        \n",
    "        return {\n",
    "            'review_text': review,\n",
    "            'input_ids': encoding['input_ids'].flatten(),\n",
    "            'attention_mask': encoding['attention_mask'].flatten(),\n",
    "            'targets': torch.tensor(target, dtype=torch.long)\n",
    "            }"
   ]
  },
  {
   "cell_type": "code",
   "execution_count": 14,
   "id": "48b90123-c710-413d-9583-285d01c55a14",
   "metadata": {},
   "outputs": [],
   "source": [
    "# Split the DataFrame into training and validation sets\n",
    "train_df, val_df = train_test_split(train_df, test_size=0.2, random_state=42)"
   ]
  },
  {
   "cell_type": "code",
   "execution_count": 15,
   "id": "2084b122-9ce0-43f4-8b6e-ec30713ccc57",
   "metadata": {},
   "outputs": [
    {
     "data": {
      "text/plain": [
       "(139805, 4)"
      ]
     },
     "execution_count": 15,
     "metadata": {},
     "output_type": "execute_result"
    }
   ],
   "source": [
    "train_df.shape"
   ]
  },
  {
   "cell_type": "code",
   "execution_count": 16,
   "id": "3d1bacb1-643e-4d62-ae8d-699a123cf271",
   "metadata": {},
   "outputs": [
    {
     "data": {
      "text/plain": [
       "(34952, 4)"
      ]
     },
     "execution_count": 16,
     "metadata": {},
     "output_type": "execute_result"
    }
   ],
   "source": [
    "val_df.shape"
   ]
  },
  {
   "cell_type": "markdown",
   "id": "4dccd5f8",
   "metadata": {},
   "source": [
    "Passing 'text' and 'sentiment_encoded' columns to the ReviewDataset to prepare a ds to pass to the BERT model. These operations are similar to the preprocessing steps we did earlier but these are more specific to BERT model. The function returns a PyTorch DataLoader configured with the created dataset, ready to be used for training or evaluating a model in batches with the specified batch size."
   ]
  },
  {
   "cell_type": "code",
   "execution_count": 17,
   "id": "601fa368-b8d2-4154-b77d-5c1987402e03",
   "metadata": {},
   "outputs": [],
   "source": [
    "def create_data_loader(df,tokenizer,max_len,batch_size):\n",
    "    ds = ReviewDataset(\n",
    "        reviews = df['text'].to_numpy(),\n",
    "        targets = df['sentiment_encoded'].to_numpy(),\n",
    "        tokenizer = tokenizer,\n",
    "        max_len=max_len)\n",
    "\n",
    "    return DataLoader(ds, batch_size=batch_size, num_workers=4)"
   ]
  },
  {
   "cell_type": "code",
   "execution_count": 18,
   "id": "9a10283f-9d18-45a2-9143-dc6ced6d7609",
   "metadata": {},
   "outputs": [
    {
     "data": {
      "text/html": [
       "<div>\n",
       "<style scoped>\n",
       "    .dataframe tbody tr th:only-of-type {\n",
       "        vertical-align: middle;\n",
       "    }\n",
       "\n",
       "    .dataframe tbody tr th {\n",
       "        vertical-align: top;\n",
       "    }\n",
       "\n",
       "    .dataframe thead th {\n",
       "        text-align: right;\n",
       "    }\n",
       "</style>\n",
       "<table border=\"1\" class=\"dataframe\">\n",
       "  <thead>\n",
       "    <tr style=\"text-align: right;\">\n",
       "      <th></th>\n",
       "      <th>text</th>\n",
       "      <th>stars</th>\n",
       "      <th>sentiment</th>\n",
       "      <th>sentiment_encoded</th>\n",
       "    </tr>\n",
       "  </thead>\n",
       "  <tbody>\n",
       "    <tr>\n",
       "      <th>0</th>\n",
       "      <td>Hidden treasure! Awesome service, delicious fo...</td>\n",
       "      <td>5.0</td>\n",
       "      <td>Positive</td>\n",
       "      <td>2</td>\n",
       "    </tr>\n",
       "    <tr>\n",
       "      <th>1</th>\n",
       "      <td>My family and I have been patients since I  wa...</td>\n",
       "      <td>5.0</td>\n",
       "      <td>Positive</td>\n",
       "      <td>2</td>\n",
       "    </tr>\n",
       "    <tr>\n",
       "      <th>2</th>\n",
       "      <td>I rarely get pedicures, but Blue Nail's practi...</td>\n",
       "      <td>5.0</td>\n",
       "      <td>Positive</td>\n",
       "      <td>2</td>\n",
       "    </tr>\n",
       "    <tr>\n",
       "      <th>3</th>\n",
       "      <td>We came with a large group, may of the items w...</td>\n",
       "      <td>2.0</td>\n",
       "      <td>Negative</td>\n",
       "      <td>0</td>\n",
       "    </tr>\n",
       "    <tr>\n",
       "      <th>4</th>\n",
       "      <td>The view is great from Morgan's Pier. The bart...</td>\n",
       "      <td>2.0</td>\n",
       "      <td>Negative</td>\n",
       "      <td>0</td>\n",
       "    </tr>\n",
       "  </tbody>\n",
       "</table>\n",
       "</div>"
      ],
      "text/plain": [
       "                                                text  stars sentiment  \\\n",
       "0  Hidden treasure! Awesome service, delicious fo...    5.0  Positive   \n",
       "1  My family and I have been patients since I  wa...    5.0  Positive   \n",
       "2  I rarely get pedicures, but Blue Nail's practi...    5.0  Positive   \n",
       "3  We came with a large group, may of the items w...    2.0  Negative   \n",
       "4  The view is great from Morgan's Pier. The bart...    2.0  Negative   \n",
       "\n",
       "   sentiment_encoded  \n",
       "0                  2  \n",
       "1                  2  \n",
       "2                  2  \n",
       "3                  0  \n",
       "4                  0  "
      ]
     },
     "execution_count": 18,
     "metadata": {},
     "output_type": "execute_result"
    }
   ],
   "source": [
    "# Convert stars into three levels\n",
    "test_df['sentiment'] = test_df['stars'].apply(lambda x: 'Positive' if x > 3 else ('Negative' if x <= 2 else 'Neutral'))\n",
    "\n",
    "# Mapping dictionary\n",
    "sentiment_mapping = {'Positive': 2, 'Negative': 0, 'Neutral': 1}\n",
    "\n",
    "# Apply the mapping to create a new 'sentiment_encoded' column\n",
    "test_df['sentiment_encoded'] = test_df['sentiment'].map(sentiment_mapping)\n",
    "\n",
    "test_df.head()"
   ]
  },
  {
   "cell_type": "markdown",
   "id": "592e4a36",
   "metadata": {},
   "source": [
    "The following block of code creates PyTorch data loaders (train_data_loader, val_data_loader, test_data_loader) for the training, validation, and test sets, using the create_data_loader function. Each data loader processes the corresponding DataFrame (train_df, val_df, test_df), employing a tokenizer with a maximum sequence length of 120 and batches of size 32."
   ]
  },
  {
   "cell_type": "code",
   "execution_count": 19,
   "id": "ce91ddc3-9b8d-4e32-a3bc-06debedcf1de",
   "metadata": {},
   "outputs": [],
   "source": [
    "BATCH_SIZE = 32\n",
    "MAX_LEN = 120\n",
    "\n",
    "train_data_loader = create_data_loader(train_df, tokenizer, MAX_LEN, BATCH_SIZE)\n",
    "val_data_loader = create_data_loader(val_df, tokenizer, MAX_LEN, BATCH_SIZE)\n",
    "test_data_loader = create_data_loader(test_df, tokenizer, MAX_LEN, BATCH_SIZE)"
   ]
  },
  {
   "cell_type": "markdown",
   "id": "f2089301",
   "metadata": {},
   "source": [
    "Initializing BERT pretrained model."
   ]
  },
  {
   "cell_type": "code",
   "execution_count": 20,
   "id": "b8010c4e-127c-4ce9-b9d9-554f6b0a5985",
   "metadata": {},
   "outputs": [],
   "source": [
    "bert_model = BertModel.from_pretrained(PRE_TRAINED_MODEL_NAME, return_dict = False)     "
   ]
  },
  {
   "cell_type": "markdown",
   "id": "814b4c58",
   "metadata": {},
   "source": [
    "SentimentClassifier class describes the architecture which incorporates fine-tuning of a pre-trained BERT model and additional fully connected layers for the specific classification task. Architecture of the fine tuned model is:\n",
    "1. There are total 9 layers of bert model (we freezed 3 encoder layers to reduce complexity of the model and build it specifically for our dataset and objective).\n",
    "2. We will pass the input_ids calulated above of our training dataset. Also the attention mask help model to identify which data is padded and which is not to better learn from it. \n",
    "3. Following these 9 layers of pretrained BERT model, we have a drouput layer with droupout rate of 40% to overcome overfitting.\n",
    "4. After dropout layer is a linear layer with all the input parameters of bert and giving out 128 output parameters from it. \n",
    "5. Next is the activation layer (ReLU).\n",
    "6. Similarly, there is one more linear layer with activation and dropout layer.\n",
    "7. Finally, the code returns 3 output parameters which is the number target classification labels.\n"
   ]
  },
  {
   "cell_type": "code",
   "execution_count": 21,
   "id": "bcc4f92d-c8e4-450b-92f5-b3c1f6a242a7",
   "metadata": {},
   "outputs": [],
   "source": [
    "class SentimentClassifier(nn.Module):\n",
    "      def __init__(self, n_classes):\n",
    "            super(SentimentClassifier, self).__init__()\n",
    "            self.bert = BertModel.from_pretrained('bert-base-uncased', return_dict=False)\n",
    "        \n",
    "            # Freeze the first 3 layers of BERT\n",
    "            for i in range(3):\n",
    "                for param in self.bert.encoder.layer[i].parameters():\n",
    "                    param.requires_grad = False\n",
    "                    \n",
    "            self.drop = nn.Dropout(p=0.4)\n",
    "            self.out1 = nn.Linear(self.bert.config.hidden_size, 128)\n",
    "            self.out2 = nn.Linear(128, 64)\n",
    "            self.relu = nn.ReLU()\n",
    "            self.out = nn.Linear(64, n_classes)\n",
    "      \n",
    "      def forward(self, input_ids, attention_mask):\n",
    "            _, pooled_output = self.bert(\n",
    "              input_ids=input_ids,\n",
    "              attention_mask=attention_mask)\n",
    "            output = self.drop(pooled_output)\n",
    "            output = self.out1(output)\n",
    "            output = self.relu(output)\n",
    "            output = self.drop(output)\n",
    "            output = self.out2(output)\n",
    "            output = self.relu(output)\n",
    "            output = self.drop(output)\n",
    "            return self.out(output)"
   ]
  },
  {
   "cell_type": "markdown",
   "id": "e5017cea",
   "metadata": {},
   "source": [
    "Now we save this model in 'model' and set to run on CUDA."
   ]
  },
  {
   "cell_type": "code",
   "execution_count": null,
   "id": "90bf0108-1ac9-43d5-b897-62527ce74aee",
   "metadata": {},
   "outputs": [],
   "source": [
    "model = SentimentClassifier(3)\n",
    "model = model.to(device)"
   ]
  },
  {
   "cell_type": "markdown",
   "id": "208ca11c",
   "metadata": {},
   "source": [
    "**Note:** We have used BERT pretrained model and hence we were required to preprocess the data using inbuilt functions in BERT library. Therefore, we have not explicitly included the implementation of positional embeddings, a vocabulary embedding table, or mask indicators for padded tokens. However, these aspects are typically handled by the BERT model itself and the tokenizer used. Let me explain how:\n",
    "\n",
    "1. Positional Embeddings: BERT inherently incorporates positional embeddings. The transformer architecture used by BERT is designed to handle the order of words through the use of positional embeddings. These embeddings are added to the input embeddings to provide information about the position of each token in the sequence.\n",
    "\n",
    "2. Vocabulary Embedding Table: The BERT model loads a pre-trained vocabulary embedding table when initialized with BertModel.from_pretrained('bert-base-uncased'). The embedding table contains word embeddings for each token in the vocabulary. This pre-trained embedding table is crucial for BERT's ability to understand the meaning of words in context.\n",
    "\n",
    "3. Mask Indicators for Padded Tokens: The tokenizer used when encoding the input in the ReviewDataset class sets return_attention_mask=True. This ensures that the attention mask is generated by the tokenizer, indicating which tokens are actual words and which ones are padding tokens. The attention mask is then used during the forward pass in the forward method of the SentimentClassifier to mask out the padded token positions.\n",
    "\n",
    "Despite of this, I have mentioned how to pr0cess all the above things in previous code to get a better understanding of the concept."
   ]
  },
  {
   "cell_type": "markdown",
   "id": "5f5c77c4",
   "metadata": {},
   "source": [
    "# (d) Model training "
   ]
  },
  {
   "cell_type": "markdown",
   "id": "f505fecc",
   "metadata": {},
   "source": [
    "### In this section we have to train the model with stochastic gradient descent using mini- batch fashion based on the training dataset. Moreover, we have to plot the training curve, where the x- axis is the training epochs, and the y-axis is the training accuracy."
   ]
  },
  {
   "cell_type": "markdown",
   "id": "8d0a78dd",
   "metadata": {},
   "source": [
    "**Note:** \n",
    "1. We have performed the train - validation split of the training dataset (80 - 20 split). This ensures that we have a minibatch of 20 percent of the total training dataset. \n",
    "2. We have used the optimizer as Stochastic gradient descent as instructed in the given problem. We have set its learning rate to 0.01 and momentum to 0.9 for better convergence.\n",
    "3. We have set the number of epochs to 5 as increasing the epochs would drastically increase the computational time as we have a huge dataset. Furthermore, we could see in the plot that 5 epochs are more than enough as the after 5 epochs there is not much increase in the validation accuracy."
   ]
  },
  {
   "cell_type": "code",
   "execution_count": 23,
   "id": "1098430c-6ff1-4f16-9278-dda3db6a8a8d",
   "metadata": {},
   "outputs": [],
   "source": [
    "EPOCHS = 5\n",
    "optimizer = SGD(model.parameters(), lr=0.01, momentum=0.9)  \n",
    "total_steps = len(train_data_loader) * EPOCHS\n",
    "scheduler = get_linear_schedule_with_warmup(\n",
    "  optimizer,\n",
    "  num_warmup_steps=0,\n",
    "  num_training_steps=total_steps\n",
    ")\n",
    "loss_fn = nn.CrossEntropyLoss().to(device)"
   ]
  },
  {
   "cell_type": "markdown",
   "id": "b263bf8a",
   "metadata": {},
   "source": [
    "'train_epoch' function performs one training epoch for a given sentiment classification model using a specified data loader. It calculates and updates the model's parameters based on predictions and true labels, applying gradient clipping to prevent exploding gradients. The function returns the accuracy and average loss for the epoch."
   ]
  },
  {
   "cell_type": "code",
   "execution_count": 24,
   "id": "bfcae97f-59ba-4aa8-b47c-6de80e2c8769",
   "metadata": {},
   "outputs": [],
   "source": [
    "def train_epoch(model,data_loader,loss_fn,optimizer,device,scheduler,n_examples):\n",
    "    model = model.train()\n",
    "    losses = []\n",
    "    correct_predictions = 0\n",
    "\n",
    "    for data in data_loader:\n",
    "        input_ids = data['input_ids'].to(device)\n",
    "        attention_mask = data['attention_mask'].to(device)\n",
    "        targets = data['targets'].to(device)\n",
    "\n",
    "        outputs = model(\n",
    "            input_ids=input_ids,\n",
    "            attention_mask=attention_mask\n",
    "            )\n",
    "        _, preds = torch.max(outputs, dim=1)\n",
    "        loss = loss_fn(outputs,targets)\n",
    "\n",
    "        correct_predictions += torch.sum(preds == targets)\n",
    "        losses.append(loss.item())\n",
    "\n",
    "        loss.backward()\n",
    "        nn.utils.clip_grad_norm_(model.parameters(), max_norm=1.0)\n",
    "        optimizer.step()\n",
    "        scheduler.step()\n",
    "        optimizer.zero_grad()\n",
    "\n",
    "    return correct_predictions.double() / n_examples, np.mean(losses)"
   ]
  },
  {
   "cell_type": "markdown",
   "id": "d30c56cd",
   "metadata": {},
   "source": [
    "'eval_model' function evaluates a sentiment classification model on a specified data loader. It calculates the accuracy and average loss on the evaluation set without updating the model's parameters. The function returns the accuracy and average loss."
   ]
  },
  {
   "cell_type": "code",
   "execution_count": 25,
   "id": "cb7380a0-cff6-472c-b12e-182c14154596",
   "metadata": {},
   "outputs": [],
   "source": [
    "def eval_model(model, data_loader, loss_fn, device, n_examples):\n",
    "      model = model.eval()\n",
    "      losses = []\n",
    "      correct_predictions = 0\n",
    "        \n",
    "      with torch.no_grad():\n",
    "            for d in data_loader:\n",
    "                  input_ids = d[\"input_ids\"].to(device)\n",
    "                  attention_mask = d[\"attention_mask\"].to(device)\n",
    "                  targets = d[\"targets\"].to(device)\n",
    "                  outputs = model(\n",
    "                    input_ids=input_ids,\n",
    "                    attention_mask=attention_mask\n",
    "                  )\n",
    "                  _, preds = torch.max(outputs, dim=1)\n",
    "                  loss = loss_fn(outputs, targets)\n",
    "                  correct_predictions += torch.sum(preds == targets)\n",
    "                  losses.append(loss.item())\n",
    "                \n",
    "      return correct_predictions.double() / n_examples, np.mean(losses)"
   ]
  },
  {
   "cell_type": "markdown",
   "id": "3e29906d",
   "metadata": {},
   "source": [
    "The following code run the model for 5 epochs and calculate training and validation loss and accuracy for each epoch. Among all the epochs we store the model with best validation accuracy in 'best_model_state.bin'. Later we will load this model and fit the testing data to it and evaluate our model.\n",
    "\n",
    "**Note:** The suggestion given in the output is to truncate the data. This is the same problem. The reason I have not done this is it will apply longest first padding stratergy where padding will take place according to the longest sentence."
   ]
  },
  {
   "cell_type": "code",
   "execution_count": 30,
   "id": "c17a22c6-5748-4827-86e3-71b5e5248fcc",
   "metadata": {},
   "outputs": [
    {
     "name": "stdout",
     "output_type": "stream",
     "text": [
      "Epoch 1/5\n",
      "----------\n"
     ]
    },
    {
     "name": "stderr",
     "output_type": "stream",
     "text": [
      "Truncation was not explicitly activated but `max_length` is provided a specific value, please use `truncation=True` to explicitly truncate examples to max length. Defaulting to 'longest_first' truncation strategy. If you encode pairs of sequences (GLUE-style) with the tokenizer you can select this strategy more precisely by providing a specific strategy to `truncation`.\n",
      "Truncation was not explicitly activated but `max_length` is provided a specific value, please use `truncation=True` to explicitly truncate examples to max length. Defaulting to 'longest_first' truncation strategy. If you encode pairs of sequences (GLUE-style) with the tokenizer you can select this strategy more precisely by providing a specific strategy to `truncation`.\n",
      "Truncation was not explicitly activated but `max_length` is provided a specific value, please use `truncation=True` to explicitly truncate examples to max length. Defaulting to 'longest_first' truncation strategy. If you encode pairs of sequences (GLUE-style) with the tokenizer you can select this strategy more precisely by providing a specific strategy to `truncation`.\n",
      "Truncation was not explicitly activated but `max_length` is provided a specific value, please use `truncation=True` to explicitly truncate examples to max length. Defaulting to 'longest_first' truncation strategy. If you encode pairs of sequences (GLUE-style) with the tokenizer you can select this strategy more precisely by providing a specific strategy to `truncation`.\n"
     ]
    },
    {
     "name": "stdout",
     "output_type": "stream",
     "text": [
      "Train loss 0.5497674129052358 accuracy 0.7964092843603591\n"
     ]
    },
    {
     "name": "stderr",
     "output_type": "stream",
     "text": [
      "Truncation was not explicitly activated but `max_length` is provided a specific value, please use `truncation=True` to explicitly truncate examples to max length. Defaulting to 'longest_first' truncation strategy. If you encode pairs of sequences (GLUE-style) with the tokenizer you can select this strategy more precisely by providing a specific strategy to `truncation`.\n",
      "Truncation was not explicitly activated but `max_length` is provided a specific value, please use `truncation=True` to explicitly truncate examples to max length. Defaulting to 'longest_first' truncation strategy. If you encode pairs of sequences (GLUE-style) with the tokenizer you can select this strategy more precisely by providing a specific strategy to `truncation`.\n",
      "Truncation was not explicitly activated but `max_length` is provided a specific value, please use `truncation=True` to explicitly truncate examples to max length. Defaulting to 'longest_first' truncation strategy. If you encode pairs of sequences (GLUE-style) with the tokenizer you can select this strategy more precisely by providing a specific strategy to `truncation`.\n",
      "Truncation was not explicitly activated but `max_length` is provided a specific value, please use `truncation=True` to explicitly truncate examples to max length. Defaulting to 'longest_first' truncation strategy. If you encode pairs of sequences (GLUE-style) with the tokenizer you can select this strategy more precisely by providing a specific strategy to `truncation`.\n"
     ]
    },
    {
     "name": "stdout",
     "output_type": "stream",
     "text": [
      "Val   loss 0.49902451400323844 accuracy 0.7990959029526208\n",
      "\n",
      "Epoch 2/5\n",
      "----------\n"
     ]
    },
    {
     "name": "stderr",
     "output_type": "stream",
     "text": [
      "Truncation was not explicitly activated but `max_length` is provided a specific value, please use `truncation=True` to explicitly truncate examples to max length. Defaulting to 'longest_first' truncation strategy. If you encode pairs of sequences (GLUE-style) with the tokenizer you can select this strategy more precisely by providing a specific strategy to `truncation`.\n",
      "Truncation was not explicitly activated but `max_length` is provided a specific value, please use `truncation=True` to explicitly truncate examples to max length. Defaulting to 'longest_first' truncation strategy. If you encode pairs of sequences (GLUE-style) with the tokenizer you can select this strategy more precisely by providing a specific strategy to `truncation`.\n",
      "Truncation was not explicitly activated but `max_length` is provided a specific value, please use `truncation=True` to explicitly truncate examples to max length. Defaulting to 'longest_first' truncation strategy. If you encode pairs of sequences (GLUE-style) with the tokenizer you can select this strategy more precisely by providing a specific strategy to `truncation`.\n",
      "Truncation was not explicitly activated but `max_length` is provided a specific value, please use `truncation=True` to explicitly truncate examples to max length. Defaulting to 'longest_first' truncation strategy. If you encode pairs of sequences (GLUE-style) with the tokenizer you can select this strategy more precisely by providing a specific strategy to `truncation`.\n"
     ]
    },
    {
     "name": "stdout",
     "output_type": "stream",
     "text": [
      "Train loss 0.4492739293665465 accuracy 0.8339329780766067\n"
     ]
    },
    {
     "name": "stderr",
     "output_type": "stream",
     "text": [
      "Truncation was not explicitly activated but `max_length` is provided a specific value, please use `truncation=True` to explicitly truncate examples to max length. Defaulting to 'longest_first' truncation strategy. If you encode pairs of sequences (GLUE-style) with the tokenizer you can select this strategy more precisely by providing a specific strategy to `truncation`.\n",
      "Truncation was not explicitly activated but `max_length` is provided a specific value, please use `truncation=True` to explicitly truncate examples to max length. Defaulting to 'longest_first' truncation strategy. If you encode pairs of sequences (GLUE-style) with the tokenizer you can select this strategy more precisely by providing a specific strategy to `truncation`.\n",
      "Truncation was not explicitly activated but `max_length` is provided a specific value, please use `truncation=True` to explicitly truncate examples to max length. Defaulting to 'longest_first' truncation strategy. If you encode pairs of sequences (GLUE-style) with the tokenizer you can select this strategy more precisely by providing a specific strategy to `truncation`.\n",
      "Truncation was not explicitly activated but `max_length` is provided a specific value, please use `truncation=True` to explicitly truncate examples to max length. Defaulting to 'longest_first' truncation strategy. If you encode pairs of sequences (GLUE-style) with the tokenizer you can select this strategy more precisely by providing a specific strategy to `truncation`.\n"
     ]
    },
    {
     "name": "stdout",
     "output_type": "stream",
     "text": [
      "Val   loss 0.44271547142808193 accuracy 0.8293945983062486\n",
      "\n",
      "Epoch 3/5\n",
      "----------\n"
     ]
    },
    {
     "name": "stderr",
     "output_type": "stream",
     "text": [
      "Truncation was not explicitly activated but `max_length` is provided a specific value, please use `truncation=True` to explicitly truncate examples to max length. Defaulting to 'longest_first' truncation strategy. If you encode pairs of sequences (GLUE-style) with the tokenizer you can select this strategy more precisely by providing a specific strategy to `truncation`.\n",
      "Truncation was not explicitly activated but `max_length` is provided a specific value, please use `truncation=True` to explicitly truncate examples to max length. Defaulting to 'longest_first' truncation strategy. If you encode pairs of sequences (GLUE-style) with the tokenizer you can select this strategy more precisely by providing a specific strategy to `truncation`.\n",
      "Truncation was not explicitly activated but `max_length` is provided a specific value, please use `truncation=True` to explicitly truncate examples to max length. Defaulting to 'longest_first' truncation strategy. If you encode pairs of sequences (GLUE-style) with the tokenizer you can select this strategy more precisely by providing a specific strategy to `truncation`.\n",
      "Truncation was not explicitly activated but `max_length` is provided a specific value, please use `truncation=True` to explicitly truncate examples to max length. Defaulting to 'longest_first' truncation strategy. If you encode pairs of sequences (GLUE-style) with the tokenizer you can select this strategy more precisely by providing a specific strategy to `truncation`.\n"
     ]
    },
    {
     "name": "stdout",
     "output_type": "stream",
     "text": [
      "Train loss 0.4037501260426776 accuracy 0.8492614713350739\n"
     ]
    },
    {
     "name": "stderr",
     "output_type": "stream",
     "text": [
      "Truncation was not explicitly activated but `max_length` is provided a specific value, please use `truncation=True` to explicitly truncate examples to max length. Defaulting to 'longest_first' truncation strategy. If you encode pairs of sequences (GLUE-style) with the tokenizer you can select this strategy more precisely by providing a specific strategy to `truncation`.\n",
      "Truncation was not explicitly activated but `max_length` is provided a specific value, please use `truncation=True` to explicitly truncate examples to max length. Defaulting to 'longest_first' truncation strategy. If you encode pairs of sequences (GLUE-style) with the tokenizer you can select this strategy more precisely by providing a specific strategy to `truncation`.\n",
      "Truncation was not explicitly activated but `max_length` is provided a specific value, please use `truncation=True` to explicitly truncate examples to max length. Defaulting to 'longest_first' truncation strategy. If you encode pairs of sequences (GLUE-style) with the tokenizer you can select this strategy more precisely by providing a specific strategy to `truncation`.\n",
      "Truncation was not explicitly activated but `max_length` is provided a specific value, please use `truncation=True` to explicitly truncate examples to max length. Defaulting to 'longest_first' truncation strategy. If you encode pairs of sequences (GLUE-style) with the tokenizer you can select this strategy more precisely by providing a specific strategy to `truncation`.\n"
     ]
    },
    {
     "name": "stdout",
     "output_type": "stream",
     "text": [
      "Val   loss 0.3896055093865027 accuracy 0.8523117418173495\n",
      "\n",
      "Epoch 4/5\n",
      "----------\n"
     ]
    },
    {
     "name": "stderr",
     "output_type": "stream",
     "text": [
      "Truncation was not explicitly activated but `max_length` is provided a specific value, please use `truncation=True` to explicitly truncate examples to max length. Defaulting to 'longest_first' truncation strategy. If you encode pairs of sequences (GLUE-style) with the tokenizer you can select this strategy more precisely by providing a specific strategy to `truncation`.\n",
      "Truncation was not explicitly activated but `max_length` is provided a specific value, please use `truncation=True` to explicitly truncate examples to max length. Defaulting to 'longest_first' truncation strategy. If you encode pairs of sequences (GLUE-style) with the tokenizer you can select this strategy more precisely by providing a specific strategy to `truncation`.\n",
      "Truncation was not explicitly activated but `max_length` is provided a specific value, please use `truncation=True` to explicitly truncate examples to max length. Defaulting to 'longest_first' truncation strategy. If you encode pairs of sequences (GLUE-style) with the tokenizer you can select this strategy more precisely by providing a specific strategy to `truncation`.\n",
      "Truncation was not explicitly activated but `max_length` is provided a specific value, please use `truncation=True` to explicitly truncate examples to max length. Defaulting to 'longest_first' truncation strategy. If you encode pairs of sequences (GLUE-style) with the tokenizer you can select this strategy more precisely by providing a specific strategy to `truncation`.\n"
     ]
    },
    {
     "name": "stdout",
     "output_type": "stream",
     "text": [
      "Train loss 0.3696134888056924 accuracy 0.8619934909338006\n"
     ]
    },
    {
     "name": "stderr",
     "output_type": "stream",
     "text": [
      "Truncation was not explicitly activated but `max_length` is provided a specific value, please use `truncation=True` to explicitly truncate examples to max length. Defaulting to 'longest_first' truncation strategy. If you encode pairs of sequences (GLUE-style) with the tokenizer you can select this strategy more precisely by providing a specific strategy to `truncation`.\n",
      "Truncation was not explicitly activated but `max_length` is provided a specific value, please use `truncation=True` to explicitly truncate examples to max length. Defaulting to 'longest_first' truncation strategy. If you encode pairs of sequences (GLUE-style) with the tokenizer you can select this strategy more precisely by providing a specific strategy to `truncation`.\n",
      "Truncation was not explicitly activated but `max_length` is provided a specific value, please use `truncation=True` to explicitly truncate examples to max length. Defaulting to 'longest_first' truncation strategy. If you encode pairs of sequences (GLUE-style) with the tokenizer you can select this strategy more precisely by providing a specific strategy to `truncation`.\n",
      "Truncation was not explicitly activated but `max_length` is provided a specific value, please use `truncation=True` to explicitly truncate examples to max length. Defaulting to 'longest_first' truncation strategy. If you encode pairs of sequences (GLUE-style) with the tokenizer you can select this strategy more precisely by providing a specific strategy to `truncation`.\n"
     ]
    },
    {
     "name": "stdout",
     "output_type": "stream",
     "text": [
      "Val   loss 0.380102200166059 accuracy 0.8564602883955138\n",
      "\n",
      "Epoch 5/5\n",
      "----------\n"
     ]
    },
    {
     "name": "stderr",
     "output_type": "stream",
     "text": [
      "Truncation was not explicitly activated but `max_length` is provided a specific value, please use `truncation=True` to explicitly truncate examples to max length. Defaulting to 'longest_first' truncation strategy. If you encode pairs of sequences (GLUE-style) with the tokenizer you can select this strategy more precisely by providing a specific strategy to `truncation`.\n",
      "Truncation was not explicitly activated but `max_length` is provided a specific value, please use `truncation=True` to explicitly truncate examples to max length. Defaulting to 'longest_first' truncation strategy. If you encode pairs of sequences (GLUE-style) with the tokenizer you can select this strategy more precisely by providing a specific strategy to `truncation`.\n",
      "Truncation was not explicitly activated but `max_length` is provided a specific value, please use `truncation=True` to explicitly truncate examples to max length. Defaulting to 'longest_first' truncation strategy. If you encode pairs of sequences (GLUE-style) with the tokenizer you can select this strategy more precisely by providing a specific strategy to `truncation`.\n",
      "Truncation was not explicitly activated but `max_length` is provided a specific value, please use `truncation=True` to explicitly truncate examples to max length. Defaulting to 'longest_first' truncation strategy. If you encode pairs of sequences (GLUE-style) with the tokenizer you can select this strategy more precisely by providing a specific strategy to `truncation`.\n"
     ]
    },
    {
     "name": "stdout",
     "output_type": "stream",
     "text": [
      "Train loss 0.34587909910434794 accuracy 0.870970280032903\n"
     ]
    },
    {
     "name": "stderr",
     "output_type": "stream",
     "text": [
      "Truncation was not explicitly activated but `max_length` is provided a specific value, please use `truncation=True` to explicitly truncate examples to max length. Defaulting to 'longest_first' truncation strategy. If you encode pairs of sequences (GLUE-style) with the tokenizer you can select this strategy more precisely by providing a specific strategy to `truncation`.\n",
      "Truncation was not explicitly activated but `max_length` is provided a specific value, please use `truncation=True` to explicitly truncate examples to max length. Defaulting to 'longest_first' truncation strategy. If you encode pairs of sequences (GLUE-style) with the tokenizer you can select this strategy more precisely by providing a specific strategy to `truncation`.\n",
      "Truncation was not explicitly activated but `max_length` is provided a specific value, please use `truncation=True` to explicitly truncate examples to max length. Defaulting to 'longest_first' truncation strategy. If you encode pairs of sequences (GLUE-style) with the tokenizer you can select this strategy more precisely by providing a specific strategy to `truncation`.\n",
      "Truncation was not explicitly activated but `max_length` is provided a specific value, please use `truncation=True` to explicitly truncate examples to max length. Defaulting to 'longest_first' truncation strategy. If you encode pairs of sequences (GLUE-style) with the tokenizer you can select this strategy more precisely by providing a specific strategy to `truncation`.\n"
     ]
    },
    {
     "name": "stdout",
     "output_type": "stream",
     "text": [
      "Val   loss 0.3775920041786526 accuracy 0.8584058136873426\n",
      "\n"
     ]
    }
   ],
   "source": [
    "import warnings\n",
    "# Suppress all warnings\n",
    "warnings.filterwarnings(\"ignore\")\n",
    "\n",
    "history = defaultdict(list)\n",
    "best_accuracy = 0\n",
    "for epoch in range(EPOCHS):\n",
    "    print(f'Epoch {epoch + 1}/{EPOCHS}')\n",
    "    print('-' * 10)\n",
    "    \n",
    "    train_acc, train_loss = train_epoch(\n",
    "        model,\n",
    "        train_data_loader,\n",
    "        loss_fn,\n",
    "        optimizer,\n",
    "        device,\n",
    "        scheduler,\n",
    "        len(train_df)\n",
    "    )\n",
    "    print(f'Train loss {train_loss} accuracy {train_acc}')\n",
    "    \n",
    "    val_acc, val_loss = eval_model(\n",
    "        model,\n",
    "        val_data_loader,\n",
    "        loss_fn,\n",
    "        device,\n",
    "        len(val_df)\n",
    "    )\n",
    "    print(f'Val   loss {val_loss} accuracy {val_acc}')\n",
    "    print()\n",
    "    history['train_acc'].append(train_acc)\n",
    "    history['train_loss'].append(train_loss)\n",
    "    history['val_acc'].append(val_acc)\n",
    "    history['val_loss'].append(val_loss)\n",
    "    \n",
    "    if val_acc > best_accuracy:\n",
    "        torch.save(model.state_dict(), 'best_model_state.bin')\n",
    "        best_accuracy = val_acc"
   ]
  },
  {
   "cell_type": "markdown",
   "id": "4e90a3b4",
   "metadata": {},
   "source": [
    "The following code plots the training and validation accuracies on Y axis and epochs on X axis. We can see that after epoch 4 training accuracy is increasing but the validation accuracy is not. Hence, our model is starting to overfit to training data after that point. "
   ]
  },
  {
   "cell_type": "code",
   "execution_count": 38,
   "id": "2887cd2e-91e9-4719-933e-cec08199b9c9",
   "metadata": {},
   "outputs": [
    {
     "data": {
      "image/png": "[encoded data removed]",
      "text/plain": [
       "<Figure size 640x480 with 1 Axes>"
      ]
     },
     "metadata": {},
     "output_type": "display_data"
    }
   ],
   "source": [
    "import matplotlib.pyplot as plt\n",
    "import numpy as np\n",
    "\n",
    "# Move tensors to CPU before converting to NumPy arrays\n",
    "train_acc_cpu = [tensor.cpu().item() for tensor in history['train_acc']]\n",
    "val_acc_cpu = [tensor.cpu().item() for tensor in history['val_acc']]\n",
    "\n",
    "plt.plot(train_acc_cpu, label='train accuracy')\n",
    "plt.plot(val_acc_cpu, label='validation accuracy')\n",
    "plt.title('Training history')\n",
    "plt.ylabel('Accuracy')\n",
    "plt.xlabel('Epoch')\n",
    "plt.legend()\n",
    "plt.ylim([0, 1])\n",
    "plt.show()\n"
   ]
  },
  {
   "cell_type": "markdown",
   "id": "ceb9bb49",
   "metadata": {},
   "source": [
    "**NOTE:** The epochs are indexed from 0. Therefore in the following figure when x = 0.0 then it is epoch 1."
   ]
  },
  {
   "cell_type": "markdown",
   "id": "dc0014e5",
   "metadata": {},
   "source": [
    "# (e) Result Analysis"
   ]
  },
  {
   "cell_type": "markdown",
   "id": "edf829c6",
   "metadata": {},
   "source": [
    "Load the tokenizer and pretrained BERT model with some changes"
   ]
  },
  {
   "cell_type": "code",
   "execution_count": 61,
   "id": "6209e270-0e98-4158-802c-7a82197df7c1",
   "metadata": {},
   "outputs": [],
   "source": [
    "# Load the pre-trained BERT model and tokenizer\n",
    "model_final = BertModel.from_pretrained(PRE_TRAINED_MODEL_NAME, return_dict = False)\n",
    "tokenizer = BertTokenizer.from_pretrained(PRE_TRAINED_MODEL_NAME, return_dict = False)\n",
    "\n",
    "model_final = SentimentClassifier(3)\n",
    "model_final = model.to(device)"
   ]
  },
  {
   "cell_type": "markdown",
   "id": "e57beb89",
   "metadata": {},
   "source": [
    "Load the model with best validation accuracy 'best_model_state.bin' "
   ]
  },
  {
   "cell_type": "code",
   "execution_count": 62,
   "id": "be095418-bb27-4c63-80f6-bc951de1fb3a",
   "metadata": {},
   "outputs": [
    {
     "data": {
      "text/plain": [
       "<All keys matched successfully>"
      ]
     },
     "execution_count": 62,
     "metadata": {},
     "output_type": "execute_result"
    }
   ],
   "source": [
    "# Load the saved model state\n",
    "model_final.load_state_dict(torch.load('best_model_state.bin'))"
   ]
  },
  {
   "cell_type": "markdown",
   "id": "cce9e6fe",
   "metadata": {},
   "source": [
    "'get_predictions' function generates predictions for a sentiment classification model on a specified data loader. It returns lists containing the review texts, predicted labels, prediction probabilities, and true labels for each example in the dataset. This function is useful for evaluating model performance, analyzing predictions, and understanding how well the model generalizes to new data."
   ]
  },
  {
   "cell_type": "code",
   "execution_count": null,
   "id": "94e05df0",
   "metadata": {},
   "outputs": [],
   "source": [
    "def get_predictions(model, data_loader):\n",
    "      model = model.eval()\n",
    "      review_texts = []\n",
    "      predictions = []\n",
    "      prediction_probs = []\n",
    "      real_values = []\n",
    "      with torch.no_grad():\n",
    "            for d in data_loader:\n",
    "                  texts = d[\"review_text\"]\n",
    "                  input_ids = d[\"input_ids\"].to(device)\n",
    "                  attention_mask = d[\"attention_mask\"].to(device)\n",
    "                  targets = d[\"targets\"].to(device)\n",
    "                  outputs = model(\n",
    "                    input_ids=input_ids,\n",
    "                    attention_mask=attention_mask\n",
    "                  )\n",
    "                  _, preds = torch.max(outputs, dim=1)\n",
    "                  review_texts.extend(texts)\n",
    "                  predictions.extend(preds)\n",
    "                  prediction_probs.extend(outputs)\n",
    "                  real_values.extend(targets)\n",
    "      predictions = torch.stack(predictions).cpu()\n",
    "      prediction_probs = torch.stack(prediction_probs).cpu()\n",
    "      real_values = torch.stack(real_values).cpu()\n",
    "      return review_texts, predictions, prediction_probs, real_values"
   ]
  },
  {
   "cell_type": "code",
   "execution_count": null,
   "id": "fb89a717-9f26-4b10-9ec2-2d43ac2a55f1",
   "metadata": {},
   "outputs": [],
   "source": [
    "test_acc, _ = eval_model(\n",
    "  model_final,\n",
    "  test_data_loader,\n",
    "  loss_fn,\n",
    "  device,\n",
    "  len(test_df)\n",
    ")\n",
    "\n",
    "y_review_texts, y_pred, y_pred_probs, y_test = get_predictions(\n",
    "  model_final,\n",
    "  test_data_loader\n",
    ")"
   ]
  },
  {
   "cell_type": "markdown",
   "id": "d17c4f3e",
   "metadata": {},
   "source": [
    "Following is the classification report which shows how well our model performed on the testing data. \n",
    "\n",
    "- Testing Accuracy: 82%"
   ]
  },
  {
   "cell_type": "code",
   "execution_count": 65,
   "id": "8cb15c1b-419b-4bf8-9013-5c7765cc717f",
   "metadata": {},
   "outputs": [
    {
     "name": "stdout",
     "output_type": "stream",
     "text": [
      "              precision    recall  f1-score   support\n",
      "\n",
      "           2       0.71      0.81      0.76      3145\n",
      "           0       0.49      0.13      0.21      1416\n",
      "           1       0.87      0.93      0.90      9419\n",
      "\n",
      "    accuracy                           0.82     13980\n",
      "   macro avg       0.69      0.62      0.62     13980\n",
      "weighted avg       0.80      0.82      0.80     13980\n",
      "\n"
     ]
    }
   ],
   "source": [
    "class_name = ['2', '0', '1']\n",
    "\n",
    "print(classification_report(y_test, y_pred, target_names=class_name))"
   ]
  },
  {
   "cell_type": "code",
   "execution_count": 66,
   "id": "bdcb2953-86ae-49fb-89a0-5866f41d1aad",
   "metadata": {},
   "outputs": [
    {
     "data": {
      "image/png": "[encoded data removed]",
      "text/plain": [
       "<Figure size 800x600 with 2 Axes>"
      ]
     },
     "metadata": {},
     "output_type": "display_data"
    }
   ],
   "source": [
    "def show_confusion_matrix(confusion_matrix, class_names, figsize=(10, 7), fontsize=14, annot_kws={}):\n",
    "    df_cm = pd.DataFrame(confusion_matrix, index=class_names, columns=class_names)\n",
    "    \n",
    "    plt.figure(figsize=figsize)\n",
    "    hmap = sns.heatmap(df_cm, annot=True, fmt=\"d\", cmap=\"Blues\", annot_kws=annot_kws)\n",
    "    \n",
    "    hmap.yaxis.set_ticklabels(hmap.yaxis.get_ticklabels(), rotation=0, ha='right', fontsize=fontsize)\n",
    "    hmap.xaxis.set_ticklabels(hmap.xaxis.get_ticklabels(), rotation=30, ha='right', fontsize=fontsize)\n",
    "    \n",
    "    plt.ylabel('True sentiment', fontsize=fontsize)\n",
    "    plt.xlabel('Predicted sentiment', fontsize=fontsize)\n",
    "    \n",
    "    plt.show()\n",
    "\n",
    "cm = confusion_matrix(y_test, y_pred)\n",
    "show_confusion_matrix(cm, class_name, figsize=(8, 6), fontsize=12, annot_kws={\"size\": 12})"
   ]
  },
  {
   "cell_type": "markdown",
   "id": "911721ac",
   "metadata": {},
   "source": [
    "#### Following is the confusion matrix showcasing performance of our model on testing dataset. \n",
    "\n",
    "- We know that the following sentiments correspond to these labels 'Positive': 2, 'Negative': 0, 'Neutral': 1.\n",
    "- We can see that our model performed well in predicting 'Neutral' and 'Positive' sentiments. \n",
    "- On the other hand our model failed to predict the 'Negative' sentiment correctly. \n",
    "- We had a descent validation accuracy while building the model and yet it is performing poorly for 'Negative' label. One of the reasons for this might be the imbalance in label distribution of the training data. I suspect that our training data had more 'Positive' and 'Neutral' labels than the 'Negative' labels.\n",
    "- Hence, due to this we can observe that the f1-scores for 'Positive' and 'Neutral' are higher than that of 'Negative' sentiments."
   ]
  },
  {
   "cell_type": "markdown",
   "id": "5af31c0b",
   "metadata": {},
   "source": [
    "### Hyper parameter Analysis:\n",
    "\n",
    "1. Used Bert pretrained model as a part of transfer learning. The original BERT model, has 12 transformer layers but I freezed first 3 layers to reduce model complexity and save computational time. Moreover, Bert has 12 attention heads each layer. Hence, my model has 108 attention heads. \n",
    "2. Appended 2 linear layers and created a DNN to learn the classification.\n",
    "3. Added dropout layers between them of 40% dropout rate to minimize overfitting of training data.\n",
    "4. Used ReLU as the activation functions for linear activations which are not complex.\n",
    "5. Finally, had an output layer with 3 output features which are the labels of the classification."
   ]
  }
 ],
 "metadata": {
  "kernelspec": {
   "display_name": "Python 3 (ipykernel)",
   "language": "python",
   "name": "python3"
  },
  "language_info": {
   "codemirror_mode": {
    "name": "ipython",
    "version": 3
   },
   "file_extension": ".py",
   "mimetype": "text/x-python",
   "name": "python",
   "nbconvert_exporter": "python",
   "pygments_lexer": "ipython3",
   "version": "3.8.6"
  }
 },
 "nbformat": 4,
 "nbformat_minor": 5
}
